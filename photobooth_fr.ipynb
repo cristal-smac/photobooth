{
 "cells": [
  {
   "cell_type": "markdown",
   "metadata": {},
   "source": [
    "# Transformations bijectives d'images\n",
    "Auteurs : Philippe Mathieu et Jean-Paul Delahaye, [CRISTAL Lab](https://www.cristal.univ-lille.fr/), [SMAC Team](https://www.cristal.univ-lille.fr/?rubrique26&id=7), [University of Lille](http://www.univ-lille1.fr), email : {prenom.nom}@univ-lille.fr\n",
    "\n",
    "Creation : 18/12/2021\n",
    "\n",
    "## Qu'est-ce qu'une image ?\n",
    "\n",
    "En informatique, une image est constituée de points (appelés pixels). Par exemple une image 100x100 contient 10.000 pixels. Un pixel est défini par ses coordonnées dans un repère cartésien, et on lui associe une couleur (codée en général sur 3 octets pour les composantes Rouge Vert Bleu). Chaque pixel peut bien sûr prendre n'importe quelle couleur.\n",
    "\n",
    "L'ensemble des pixels forme un ensemble fini, donc énumérable. On peut donc parcourir tous les points/pixels de l'image et leur appliquer des transformations. C'est ce que font les logiciels d'embellissement d'images qui appliquent des filtres qui renforcent ou diminuent les couleurs. On peut aussi permuter deux points/pixels sur une image, ce qui revient en fait à permuter leurs couleurs respectives.\n",
    "\n",
    "### Matplotlib et Numpy\n",
    "La librairie Python [Matplotlib](https://matplotlib.org/stable/api/_as_gen/matplotlib.pyplot.html) et sa bibliothèque `pyplot` est l'une des librairies permettant de faire du graphique en général et des manipulations basiques sur les images. [Numpy](https://numpy.org/doc/stable/user/absolute_beginners.html) quant à elle, fournit des fonctions puissantes de manipulations de tableaux multi-dimentionnels.\n",
    "\n",
    "**ATTENTION** : `pyplot` sait gérer des images (ensemble de points) et des figures (image avec axes, ticks, légendes). Il est important de bien distinguer les deux. La librairie `pyplot` fournit des fonctions pour les images (`imread`, `imsave`, `imshow`) qui n'ont aucune influence sur la résolution de l'image (le nombre de pixels), et des fonctions pour les figures (`savefig`, `show`) qui modifient la résolution selon le `dpi`. "
   ]
  },
  {
   "cell_type": "code",
   "execution_count": null,
   "metadata": {},
   "outputs": [],
   "source": [
    "# Chargement d'une image\n",
    "import matplotlib.pyplot as plt\n",
    "import numpy as np\n",
    "img = plt.imread('pics/joconde256.png')\n",
    "# print(img.shape)\n",
    "\n",
    "# visualisation de l'image\n",
    "plt.axis('off')\n",
    "plt.imshow(img)\n",
    "img.shape"
   ]
  },
  {
   "cell_type": "markdown",
   "metadata": {},
   "source": [
    "La fonction `imread` de `pyplot` renvoie un tableau numpy à deux dimensions contenant dans chaque case un tableau de 3 valeurs (4 dans le cas du png) pour la couleur.\n",
    "Manipuler une image revient donc à manipuler un tableau 2D numpy.\n",
    "\n",
    "On peut bien sûr afficher la \"valeur\" d'un pixel. Les coordonnées d'un pixel sont indiquées dans l'ordre ligne,colonne avec une origine en haut à gauche. Par exemple `print(img[10,150])` affiche la 10è ligne, 150è colonne (le haut de la raie des cheveux de la joconde).\n",
    "- Le `jpg` encode ses pixels sur 3 valeurs pour RGB, `matplotlib` les représente en entiers de 0 à 255. \n",
    "- Le `png` utilise quant à lui 4 valeurs : RGB + l'opacité. L'opacité étant un pourcentage (0% soit 0 pour transparent et 100% soit 1 pour opaque), `matplotlib` encode chacun de ces composants en type float allant de 0 à 1."
   ]
  },
  {
   "cell_type": "code",
   "execution_count": null,
   "metadata": {},
   "outputs": [],
   "source": [
    "# Chargement d'une image\n",
    "import matplotlib.pyplot as plt\n",
    "img = plt.imread('pics/joconde256.png')\n",
    "\n",
    "print(img[10,150])"
   ]
  },
  {
   "cell_type": "markdown",
   "metadata": {},
   "source": [
    "Pour le [codage des couleurs](https://htmlcolorcodes.com/fr/), noir=[0,0,0] ; bleu=[0,0,1] ; vert=[0,1,0] ; aqua=[0,1,1] ; rouge=[1,0,0] ;  fuscia=[1,0,1] ; jaune=[1,1,0] ; blanc=[1,1,1]\n",
    "\n",
    "Si on souhaite mettre une zone rouge sur le nez de notre joconde , il suffit donc d'écrire"
   ]
  },
  {
   "cell_type": "code",
   "execution_count": null,
   "metadata": {},
   "outputs": [],
   "source": [
    "img[120:125,96:100]= [1,0,0]+[0.7]\n",
    "\n",
    "# visualisation de l'image\n",
    "plt.axis('off')\n",
    "plt.imshow(img) "
   ]
  },
  {
   "cell_type": "markdown",
   "metadata": {},
   "source": [
    "Testez avec une zone blanche, bleue, noire, verte, .....\n",
    "\n",
    "Il est évidemment possible de créer la totalité de l'image par le même procédé. Il suffit pour cela de créer un tableau de profondeur 4 avec une couleur donnée.\n",
    "Voici par exemple comment créer une image 256x256 avec des couleurs aléatoires (entre 0 et 255)."
   ]
  },
  {
   "cell_type": "code",
   "execution_count": null,
   "metadata": {},
   "outputs": [],
   "source": [
    "# couleur aléatoire : \n",
    "img = np.random.randint(0, 255, (256, 256, 3), dtype=np.uint8)\n",
    "# couleur uniforme : aqua\n",
    "#img = np.full((256,256,4), [0,1,1,1], dtype=np.float32)\n",
    "\n",
    "# visualisation de l'image\n",
    "plt.axis('off')\n",
    "plt.imshow(img) \n",
    "plt.imsave('result/multicolor.png',img)            "
   ]
  },
  {
   "cell_type": "markdown",
   "metadata": {},
   "source": [
    "\n",
    "\n",
    "## Les transformations bijectives\n",
    "La technique de transformation d'images que nous présentons ici consiste à déplacer les pixels de l'image (donc les couleurs, car les pixels proprement dits ne bougent pas) sans en perdre ni en ajouter aucun : c'est ce que l'on appelle communément un mélange. En mathématiques, un mélange dans un ensemble fini correspond à ce que l'on appelle une bijection (une application telle que tout élément de son ensemble d'arrivée ait un et un seul antécédent).\n",
    "\n",
    "On cherche ici à étudier des fonctions qui définissent un tel mélange (donc des fonctions bijectives qui à un point de l'image fait correspondre un autre point).  D'où le titre que nous avons choisi : `Transformations bijectives d'Images`\n",
    "\n",
    "Il est à noter qu'une transformation s'effectue en \"simultané\" : on donne l'illusion que tous les points bougent en même temps afin de ne pas en perdre. Pour effectuer cela, il est nécessaire de travailler sur une copie de l'image. On lit la position du point dans l'image initiale, on le repositionne dans l'image secondaire, jusqu'à ce que tous les points aient été traités. une fois tous les points traités, l'image secondaire devient l'image principale.\n",
    "\n",
    "#### La transformation Miroir\n",
    "La plus simple à comprendre parmi ces fonctions bijectives est la fonction miroir : Tous les points se déplacent vers leur symétrique relativement à l'axe vertical de l'image : les points à gauge vont à droite, les points à droite vont à gauche.\n",
    "\n",
    "En Numpy, cela s'écrit très facilement : `return img[:, ::-1]`\n"
   ]
  },
  {
   "cell_type": "code",
   "execution_count": null,
   "metadata": {},
   "outputs": [],
   "source": [
    "# Chargement d'une image\n",
    "import matplotlib.pyplot as plt\n",
    "img = plt.imread('pics/joconde256.png')\n",
    "\n",
    "# transformation\n",
    "img2 = img[:, ::-1]\n",
    "\n",
    "# visualisation de l'image\n",
    "plt.axis('off')\n",
    "plt.imshow(img2) "
   ]
  },
  {
   "cell_type": "markdown",
   "metadata": {},
   "source": [
    "Parce que c'est une bijection, à force de l'appliquer, on retombe sur la même image au bout d'un certain temps. C'est une propriété de TOUTES les bijections dans un ensemble fini. Évidemment, ici, 2 applications successives de la fonction Miroir re-fournissent l'image initiale.\n",
    "\n",
    "#### La transformation DecalageGauche\n",
    "\n",
    "Dans la transformation `miroir` précédente, le temps de retour à l'image initiale est de 2 étapes.\n",
    "D'autres transformations prennent bien sûr plus de temps. Le décalage gauche par exemple, qui consiste à déplacer tous les pixels d'un cran vers la gauche, nécessitera pour revenir à son point de départ autant d'étapes que la largeur de l'image.\n",
    "\n",
    "Cette transformation se code en Numpy via :\n",
    "`[[img[row][(col + 1) % width] for col in range(width)] for row in range(height)]`"
   ]
  },
  {
   "cell_type": "code",
   "execution_count": null,
   "metadata": {},
   "outputs": [],
   "source": [
    "import numpy as np\n",
    "\n",
    "# transformation\n",
    "height, width, _ = img.shape\n",
    "\n",
    "# 100 étapes\n",
    "img2=img.copy()\n",
    "for _ in range(80) :\n",
    "    img2 = np.array([[img2[row][(col + 1) % width] for col in range(width)] for row in range(height)])\n",
    "\n",
    "# visualisation de l'image\n",
    "plt.axis('off')\n",
    "plt.imshow(img2) "
   ]
  },
  {
   "cell_type": "markdown",
   "metadata": {},
   "source": [
    "#### La transformation du Photomaton\n",
    "\n",
    "La plus spectaculaire des transformations bijectives est sans aucun doute la transformation du Photomaton. On prend chaque bloc de 4 pixels, et on fait en sorte que chacun de ces 4 pixels se répartissent dans les 4 grandes parties de l'image.\n",
    "\n",
    "Dès la premiere étape, on a l'impression d'avoir recopié 4 fois l'image en plus petit. Mais il n'en n'est rien ! C'est bien de 4 images différentes qu'il s'agit. Elles se ressemblent mais elles sont différentes !"
   ]
  },
  {
   "cell_type": "code",
   "execution_count": null,
   "metadata": {},
   "outputs": [],
   "source": [
    "# fonction qui concatène les points \"pairs\" avec les points \"impairs\"\n",
    "def EvenOddIndex(img: np.ndarray) -> np.ndarray:\n",
    "    return np.concatenate((img[::2], img[1::2]))\n",
    "\n",
    "# 2 étapes\n",
    "img2=img.copy()\n",
    "for _ in range(1) :\n",
    "    img2 = np.array(EvenOddIndex([EvenOddIndex([img2[row, col] for col in range(width)]) for row in range(height)]))\n",
    "\n",
    "# visualisation de l'image\n",
    "plt.axis('off')\n",
    "plt.imshow(img2)\n"
   ]
  },
  {
   "cell_type": "markdown",
   "metadata": {},
   "source": [
    "#### Exercice 1\n",
    "Construire une image 3x3 avec les 9 premieres étapes du photomaton (dans chaque case une étape)"
   ]
  },
  {
   "cell_type": "code",
   "execution_count": null,
   "metadata": {},
   "outputs": [],
   "source": [
    "img2 = plt.imread('pics/joconde256.png')\n",
    "height, width, _ = img.shape\n",
    "fig=plt.figure(figsize=(10, 10), dpi=80)\n",
    "ax=[]\n",
    "for idx in range(9) :\n",
    "    plt.subplot(3,3,idx+1)\n",
    "    plt.axis('off')\n",
    "    plt.imshow(img2)\n",
    "    img2 = np.array(EvenOddIndex([EvenOddIndex([img2[row, col] for col in range(width)]) for row in range(height)]))\n",
    "fig.subplots_adjust(wspace=0, hspace=0.03)\n",
    "fig.savefig('result/jocondePhotoMatonx9.png') \n",
    "            "
   ]
  },
  {
   "cell_type": "markdown",
   "metadata": {},
   "source": [
    "## Les trajectoires de pixels\n",
    "On comprend aisément, que, pour une bijection donnée, les points se \"balladent\" sur l'image avant de revenir à leur point de départ. Leur parcours constitue un cycle, et ce cycle possède donc une taille.\n",
    "\n",
    "En ayant calculé un cycle à partir d'un point, on a aussi par définition le cycle de chacun des points qui le constitue. Tous ces points reviennent à la même position au même moment.\n",
    "\n",
    "Le nombre de points de l'image étant fini, il est possible de calculer tous les cycles possibles (il y en a beaucoup moins que de points sur l'image) ainsi que toutes les tailles de ces cycles.\n",
    "\n",
    "En général, le nombre de cycles dépend non seulement de la bijection choisie, mais aussi de la taille de l'image. Une taille paire, ne donne en général pas la même chose qu'une taille impaire, idem si nombres premiers ou puissances de 2.\n",
    "\n",
    "par exemple :\n",
    "- Joconde 256x256 avec photomaton -> 8 étapes\n",
    "- Joconde 252x212 avec photomaton -> 1050 étapes\n",
    "\n",
    "### Retour à la case départ\n",
    "\n",
    "Le problème consiste donc à calculer le nombre d'étapes nécéssaires au retour initial. Il suffirait bien sûr de laisser tourner l'ordinateur jusqu'au retour à l'image initiale en comptant les étapes, mais le temps de calcul risque parfois d'être très long ! (Pour certains cas même très simples comme la transformation du Boulanger avec des tailles d'images impaires, il faut des milliards d'étapes.)\n",
    "\n",
    "Or il est facile de comprendre que l'image initiale correspond finalement à la situation où tous les cycles sont synchronisés. Ce nombre d'étapes pour revenir à la situation initiale est donc le PPCM des tailles de tous les cycles.\n",
    "- Si on a 3 cycles de taille 3,9,24 -> il faudra 72 étapes\n",
    "- Si on a 3 cycles de taille 3,5,7 -> il faudra 105 étapes.\n",
    "\n",
    "On peut donc calculer le nombre d'étapes nécessaires au retour à l'image initiale, sans même réaliser ces étapes.\n",
    "\n",
    "\n",
    "La mise en place de cette technique nécessite quatre étapes\n",
    "1. Mettre en place la fonction qui donne l'image d'un pixel;\n",
    "2. Calculer la trajectoire d'un pixel;\n",
    "3. Calculer l'ensemble de tous les cycles;\n",
    "4. Calculer le ppcm des longueurs de tous les cycles\n",
    "\n",
    "\n",
    "\n",
    "#### Mettre en place la fonction qui donne l'image d'un pixel\n",
    "\n",
    "Précédemment, nous calculions directement la transformée d'une image. Pour faciliter le calcul des cycles, il est préférable de coder des fonctions \"successeur\" d'un point passé en paramètre afin de pouvoir \"suivre\" chaque point facilement. Bien évidemment ces calculs sont vrais pour toutes les images de même taille. Nul besoin d'une image particulière pour les exécuter; un bitmap de la bonne taille suffit.\n"
   ]
  },
  {
   "cell_type": "code",
   "execution_count": null,
   "metadata": {},
   "outputs": [],
   "source": [
    "\n",
    "def mirrorVerticalPoint(coord: tuple, height: int, width: int) -> tuple:\n",
    "    return width - 1 - coord[0], coord[1]\n",
    "\n",
    "\n",
    "def rotateVerticalPoint(coord: tuple, height: int, width: int) -> tuple:\n",
    "    return (coord[0] + 1) % height, coord[1]\n",
    "\n",
    "\n",
    "# Contrainte de taille d'image :  hauteur et largeur paires\n",
    "def photomatonPoint(coord: tuple, height: int, width: int) -> tuple:\n",
    "    x, y = coord\n",
    "    x2, y2 = x // 2, y // 2\n",
    "    return x2 if (x % 2 == 0) else x2 + (height // 2), \\\n",
    "           y2 if (y % 2 == 0) else y2 + (width // 2) \n",
    "   "
   ]
  },
  {
   "cell_type": "code",
   "execution_count": null,
   "metadata": {},
   "outputs": [],
   "source": [
    "rotateVerticalPoint((10,10),254,254)"
   ]
  },
  {
   "cell_type": "markdown",
   "metadata": {},
   "source": [
    "#### Calculer la trajectoire d'un pixel\n",
    "\n",
    "A partir d'une coordonnée passée en paramètre, on applique la transformée définie précédemment jusqu'à retourner à la coordonnée de départ. L'ensemble des coordonnées par lesquelles on passe constitue l'ensemble des pixels qu'il faudra successivement appliquer à un pixel de l'image; On utilise pour cela un tableau de booléens (appelé en informatique `bitmap`) de la même taille que l'image. Quand une coordonnée est atteinte on l'indique par True dans ce tableau."
   ]
  },
  {
   "cell_type": "code",
   "execution_count": null,
   "metadata": {},
   "outputs": [],
   "source": [
    "def getOnePath(coord: tuple, bitmap: np.ndarray, function) -> list:\n",
    "    height, width = bitmap.shape\n",
    "    row, col = coord\n",
    "    result = []\n",
    "    while not bitmap[row, col]:\n",
    "        bitmap[row, col] = True\n",
    "        result += [(row, col)]\n",
    "        row, col = function((row, col), height, width)       \n",
    "    return result\n"
   ]
  },
  {
   "cell_type": "code",
   "execution_count": null,
   "metadata": {},
   "outputs": [],
   "source": [
    "bitmap = np.full((256,256), False, dtype=bool)\n",
    "print( getOnePath((10,10),bitmap, photomatonPoint) )"
   ]
  },
  {
   "cell_type": "markdown",
   "metadata": {},
   "source": [
    "#### Calculer l'ensemble de tous les cycles\n",
    "\n",
    "Tant qu'une coordonnée du bitmap n'est pas à True, on recommence le calcul d'un nouveau cycle à partir de cette coordonnée."
   ]
  },
  {
   "cell_type": "code",
   "execution_count": null,
   "metadata": {},
   "outputs": [],
   "source": [
    "def getAllPath(bitmap: np.ndarray, function) -> list:\n",
    "    result = []\n",
    "    row, col = 0, 0\n",
    "    height, width = bitmap.shape\n",
    "    for row in range(height) :\n",
    "        for col in range(width) :\n",
    "            if not bitmap[row, col]:\n",
    "                result += [getOnePath((row, col), bitmap, function)]\n",
    "    return result"
   ]
  },
  {
   "cell_type": "code",
   "execution_count": null,
   "metadata": {},
   "outputs": [],
   "source": [
    "# Exemple\n",
    "\n",
    "bitmap = np.full((256,256), False, dtype=bool)\n",
    "allCycles = getAllPath(bitmap, photomatonPoint)\n",
    "\n",
    "print(\"nb of cycles : \",len(allCycles))\n",
    "print(\"max length   : \", max({len(i) for i in allCycles}) )\n",
    "print(\"min length   : \", min({len(i) for i in allCycles}) )\n",
    "\n",
    "# On range les longueurs dans un set pour éviter les doublons, ce qui simplifie les calculs de ppcm"
   ]
  },
  {
   "cell_type": "code",
   "execution_count": null,
   "metadata": {},
   "outputs": [],
   "source": [
    "# Un peu d'analyse\n",
    "keys,values = np.unique([len(i) for i in allCycles] ,return_counts=True)\n",
    "print(\"longueurs : \",keys, \"\\t frequences : \",values)\n",
    "\n",
    "# Récuperer les cycles de longueur 1 et 2\n",
    "nearAll = list(filter(lambda x : len(x)<3  , allCycles) )\n",
    "nearAll"
   ]
  },
  {
   "cell_type": "markdown",
   "metadata": {},
   "source": [
    "#### Exercice 2\n",
    "\n",
    "Calculer pour tous les bitmaps de taille 240 à 256 (16*15/2 = 120 images), le nombre de cycles et la longueur du plus long de ces cycles obtenus avec la transformation du PhotoMaton"
   ]
  },
  {
   "cell_type": "code",
   "execution_count": null,
   "metadata": {},
   "outputs": [],
   "source": [
    "for lig in range(230,256) :\n",
    "    for col in range(lig,256) :\n",
    "        bitmap = np.full((lig,col), False, dtype=bool)\n",
    "        allCycles = getAllPath(bitmap, photomatonPoint)\n",
    "        print(lig,\"x\",col,'nb cycles :',len(allCycles),' plus long:', max({len(i) for i in allCycles}))\n",
    "\n"
   ]
  },
  {
   "cell_type": "markdown",
   "metadata": {},
   "source": [
    "#### Calculer le ppcm des longueurs de tous les cycles\n",
    "\n",
    "Le ppcm de tous les cycles indique le plus petit nombre d'étapes nécessaire pour que tous les cycles soient en phase, ou en d'autres termes que tous les points soient revenus à leur position initiale. "
   ]
  },
  {
   "cell_type": "code",
   "execution_count": null,
   "metadata": {},
   "outputs": [],
   "source": [
    "import math\n",
    "\n",
    "# lcm is in math since python v9\n",
    "def lcm(a,b): return (a*b)//math.gcd(a,b)\n",
    "\n",
    "def processLCM(allCycles: list) -> int:\n",
    "    result = 1\n",
    "    for i in {len(i) for i in allCycles}:\n",
    "        result = lcm(result, i)\n",
    "    return result"
   ]
  },
  {
   "cell_type": "code",
   "execution_count": null,
   "metadata": {},
   "outputs": [],
   "source": [
    "# Exemple\n",
    "\n",
    "bitmap = np.full((256,256), False, dtype=bool)\n",
    "print(\"different lengths : \", {len(i) for i in allCycles})\n",
    "processLCM(getAllPath(bitmap,photomatonPoint))"
   ]
  },
  {
   "cell_type": "markdown",
   "metadata": {},
   "source": [
    "#### Dessin de la trajectoire d'un pixel\n",
    "\n",
    "Il est bien évidemment possible de visualiser sur une image les différentes étapes qu'un pixel va suivre. \n",
    "\n",
    "Attention : l'adressage d'une image se fait en (lig,col) avec une origine en haut à gauche, alors que la fonction plot prend des (col,lig). Il faut donc inverser les coordonnées dans la fonction `plot`. Par ailleurs la fonction `plot`prend en premier argument la liste des x, puis la liste des y."
   ]
  },
  {
   "cell_type": "code",
   "execution_count": null,
   "metadata": {},
   "outputs": [],
   "source": [
    "def drawLine(coord1: tuple, coord2: tuple, color=\"Red\", linewidth=1, marker=\"\"):\n",
    "    lx, ly = [coord1[0], coord2[0]], [coord1[1], coord2[1]]\n",
    "    plt.plot(ly,lx, color=color, linewidth=linewidth, marker=marker)\n",
    "\n",
    "\n",
    "def drawCycle(cycle: list, color=\"Red\", linewidth=1, marker=\"\"):\n",
    "    for i in range(len(cycle)):\n",
    "        drawLine(cycle[i-1], cycle[i], color, linewidth, marker)"
   ]
  },
  {
   "cell_type": "code",
   "execution_count": null,
   "metadata": {},
   "outputs": [],
   "source": [
    "# test drawLine, avec inversion des coordonnées ... juste pour vérifier\n",
    "img = plt.imread('pics/joconde256.png')\n",
    "img[1:20, 200:220] = [1,0,1,1]\n",
    "drawLine((1,200),(20,220),color=\"blue\")\n",
    "\n",
    "plt.axis('off')\n",
    "plt.imshow(img)"
   ]
  },
  {
   "cell_type": "code",
   "execution_count": null,
   "metadata": {},
   "outputs": [],
   "source": [
    "# Exemple\n",
    "img = plt.imread('pics/joconde256.png')\n",
    "bitmap = np.full((img.shape[0],img.shape[1]), False, dtype=bool)\n",
    "print('taille image : ', img.shape)\n",
    "allCycles = getAllPath(bitmap, photomatonPoint)\n",
    "oneCycle = allCycles[175]\n",
    "#print(oneCycle)\n",
    "\n",
    "drawCycle(oneCycle,marker=\".\")\n",
    "\n",
    "plt.axis('off')\n",
    "plt.imshow(img)\n",
    "plt.imsave('result/cycle.png',img)"
   ]
  },
  {
   "cell_type": "markdown",
   "metadata": {},
   "source": [
    "### Un GOTO n'importe quelle étape\n",
    "\n",
    "Une fois ces cycles calculés, il devient facile d'aller à n'importe quelle étape `n`. Il suffit de calculer pour chaque point le décalage dans le cycle de `n` modulo la taille du cycle. Si le cycle est `(p1,p2,p3)`un \"goto 1000 étapes\" positionnera `p2` à la place de `p1`, `p3` à la place de `p2` et `p1` à la place de `p3`. En quelque sorte, on fait juste \"tourner les cycles\", comme si c'était des roues dentées."
   ]
  },
  {
   "cell_type": "code",
   "execution_count": null,
   "metadata": {},
   "outputs": [],
   "source": [
    "def goto(img: np.ndarray, step: int, listCycles: list) -> np.ndarray:\n",
    "    resultImg = np.empty_like(img)\n",
    "    for cycle in listCycles:\n",
    "        modulo = step % len(cycle)\n",
    "        for indexInit in range(len(cycle)):\n",
    "            indexFinal = (indexInit + modulo) % len(cycle)\n",
    "            resultImg[cycle[indexFinal]]=img[cycle[indexInit]]\n",
    "    return resultImg"
   ]
  },
  {
   "cell_type": "code",
   "execution_count": null,
   "metadata": {},
   "outputs": [],
   "source": [
    "# Exemple : goto 1000\n",
    "# Sur une image (252x252), photomaton a retour au bout de 8 étapes. (1000%8)=0 , donc goto 1000 revient au départ.\n",
    "\n",
    "bitmap = np.full((256,256), False, dtype=bool)\n",
    "allp = getAllPath(bitmap,photomatonPoint)\n",
    "\n",
    "img = plt.imread('pics/joconde256.png')\n",
    "img2 = goto(img,1000,allp)\n",
    "plt.imshow(img2)"
   ]
  },
  {
   "cell_type": "markdown",
   "metadata": {},
   "source": [
    "### Image approchée\n",
    "\n",
    "On comprend maintenant facilement que si on effectue un nombre d'étapes correspondant à un PPCM d'un sous-ensemble de cycles, on arrive à une image très approchée de l'image initiale dans laquelle très peu de points ne seront pas encore en place (uniquement ceux des cycles manquants).\n"
   ]
  },
  {
   "cell_type": "code",
   "execution_count": null,
   "metadata": {},
   "outputs": [],
   "source": [
    "# Sur une image (246x254), photomaton a un retour au bout de 4620 étapes.\n",
    "# Dans ce cas il y a 24 longueurs de cycles différentes\n",
    "\n",
    "bitmap = np.full((246,254), False, dtype=bool)\n",
    "allp = getAllPath(bitmap,photomatonPoint)\n",
    "print(\"Cycles : \",{len(i) for i in allp} , \"\\tPPCM : \",processLCM(allp))\n",
    "\n",
    "img = plt.imread('pics/joconde256.png')\n",
    "img_small = img[0:246,0:254]\n",
    "\n",
    "img2 = goto(img_small,420,allp)\n",
    "plt.imshow(img2)"
   ]
  },
  {
   "cell_type": "markdown",
   "metadata": {},
   "source": [
    "## Les fractales\n",
    "Parmi les bijections potentielles, certaines ne s'appuient que sur 1 seul cycle. C'est notamment le cas des courbes fractales qui remplissent un espace 2D en passant une fois et une seule par toutes les cases. On appelle ces courbes des \"courbes remplissantes\". Il n'y a ici plus qu'un seul cycle. \n",
    "\n",
    "Il existe de nombreuses courbes remplissantes fractales\n",
    "- [Hilbert](http://fr.wikipedia.org/wiki/Courbe_de_Hilbert)\n",
    "- [Peano](https://fr.wikipedia.org/wiki/Courbe_de_Peano)\n",
    "- [Lebesgue](https://fr.wikipedia.org/wiki/Courbe_de_Lebesgue)\n",
    "- [Moore](https://mathcurve.com/fractals/moore/moore.shtml)\n",
    "\n",
    "De telles fonctions se codent facilement avec des procédures récursives (voir par exemple [la page wikipedia](https://fr.wikipedia.org/wiki/Courbe_remplissante)  correspondante).\n",
    "\n",
    "On comprend aisément que, comme il s'agit d'une fonction récursive, contrairement aux fonctions précédentes, il n'est pas possible de calculer le successeur d'un point sans calculer la totalité du chemin.\n",
    "On écrit donc pour ces courbes une fonction spécifique : `getFractalPath` qui appelle une fonction fractale récursive un nombre d'étapes suffisant pour remplir l'espace.\n"
   ]
  },
  {
   "cell_type": "code",
   "execution_count": null,
   "metadata": {},
   "outputs": [],
   "source": [
    "def getFractalPath(bitmap: np.ndarray, function) -> list:\n",
    "    height, width= bitmap.shape\n",
    "    power = int(math.log(height, 2))\n",
    "    cycle = function(height, width, power)\n",
    "    return [cycle]\n",
    "\n",
    "def hilbertFractal(height, width, step):\n",
    "    return hilbert(0, 0, height, 0, 0, width, step)\n",
    "\n",
    "def hilbert(x0, y0, xi, xj, yi, yj, n):\n",
    "    if n <= 0:\n",
    "        return [(x0 + (xi + yi) // 2, y0 + (xj + yj) // 2)]\n",
    "    else:\n",
    "        return hilbert(x0, y0, yi // 2, yj // 2, xi // 2, xj // 2, n - 1) + \\\n",
    "               hilbert(x0 + xi // 2, y0 + xj // 2, xi // 2, xj // 2, yi // 2, yj // 2, n - 1) + \\\n",
    "               hilbert(x0 + xi // 2 + yi // 2, y0 + xj // 2 + yj // 2, xi // 2, xj // 2, yi // 2, yj // 2, n - 1) + \\\n",
    "               hilbert(x0 + xi // 2 + yi, y0 + xj // 2 + yj, -yi // 2, -yj // 2, -xi // 2, -xj // 2, n - 1)"
   ]
  },
  {
   "cell_type": "markdown",
   "metadata": {},
   "source": [
    "On peut bien sûr visualiser la courbe correspondant à l'unique cycle obtenu. Pour cette visualisation on trace une courbe classique, chaque case correspond bien évidemment à un point, nous plaçons la courbe au milieu de chaque case."
   ]
  },
  {
   "cell_type": "code",
   "execution_count": null,
   "metadata": {},
   "outputs": [],
   "source": [
    "def drawFractalPath(cycle: list):\n",
    "    plt.figure()\n",
    "    axis = plt.subplot(1, 1, 1)\n",
    "    axis.axes.xaxis.set_ticklabels([])\n",
    "    axis.axes.yaxis.set_ticklabels([])\n",
    "    \n",
    "    plt.grid()\n",
    "    xs = [ t[0] + 0.5 for t in cycle]\n",
    "    ys = [ t[1] + 0.5 for t in cycle]\n",
    "    plt.plot(xs, ys, '-o')\n",
    "    plt.savefig('result/HilbertCurve3.png')\n",
    "    plt.show()\n",
    "    \n",
    "\n",
    "\n",
    "# la taille doit être une puissance de 2\n",
    "step=3\n",
    "size = pow(2,step)\n",
    "cycle = hilbertFractal(size,size,step)\n",
    "drawFractalPath(cycle)\n"
   ]
  },
  {
   "cell_type": "markdown",
   "metadata": {},
   "source": [
    "Il ne reste plus qu'à appeler cette fonction pour calculer l'unique cycle correspondant et l'appliquer comme précédemment à une image."
   ]
  },
  {
   "cell_type": "code",
   "execution_count": null,
   "metadata": {},
   "outputs": [],
   "source": [
    "# size of bitmap must be a power of 2\n",
    "bitmap = np.full((256,256), False, dtype=bool)\n",
    "cycles = getFractalPath(bitmap,hilbertFractal)\n",
    "img = plt.imread('pics/joconde256.png')\n",
    "\n",
    "img2 = goto(img,pow(2,13),cycles)\n",
    "plt.axis('off')\n",
    "plt.imshow(img2)"
   ]
  },
  {
   "cell_type": "markdown",
   "metadata": {},
   "source": [
    "Chaque pixel glisse d'un pixel le long de la courbe et, au cours des transformations,chaque pixel suit donc le trajet de la courbe. Le temps de retour est le nombre de pixels de l'image.\n",
    "\n",
    "Ce qui est remarquable avec cette courbe (et d'une manière générale avec les fractales) c'est que si vous l'appliquez N fois en prenant pour N une puissance de 2 (ou un multiple d’une puissance de 2), vous obtenez une image composée de carrés bien nets, ceux de l'image initiale tournés, mélangés et retournés (c'est-à- dire résultant d'une symétrie par rapport à une droite). Plus la puissance de 2 est élevée, plus ces carrés sont de grande taille.\n",
    "\n",
    "L'explication provient de ce que les points suivent la courbe de Hilbert qui est composée de quatre fois la même forme. Donc lorsqu'un quart du parcours a été fait, tous les pixels se redisposent exactement comme au départ dans les quarts du carré initial, chacun en ayant changé de carré.\n",
    "\n",
    "On peut donc s'amuser à faire les déplacements correspondants aux puissances de 2. Plus la puissance de 2 est élevée, plus les carrés seront de grande taille. On pourra essayer notamment 2048 (2^11) qui donne 16x16 carrés , 4096 (2^12) qui donne 8x8 carrés , 8192 (2^13) qui donne 4x4 carrés avec une image initiale de 256x256.\n",
    "\n",
    "\n"
   ]
  },
  {
   "cell_type": "markdown",
   "metadata": {},
   "source": [
    "#### Exercice 3\n",
    "Realiser une image \"poster\" 3x3 avec les 16 étapes de la Transformation de Hilbert séparées de 2^14 étapes"
   ]
  },
  {
   "cell_type": "code",
   "execution_count": null,
   "metadata": {},
   "outputs": [],
   "source": [
    "img2 = plt.imread('pics/joconde256.png')\n",
    "bitmap = np.full((256,256), False, dtype=bool)\n",
    "cycles = getFractalPath(bitmap,hilbertFractal)\n",
    "\n",
    "fig=plt.figure(figsize=(10, 10), dpi=80)\n",
    "idx=1\n",
    "for  step in range(0, pow(2,13) * 9, pow(2,13)):\n",
    "    plt.subplot(3,3,idx)\n",
    "    plt.axis('off')\n",
    "    img3 = goto(img2,step,cycles)\n",
    "    plt.imshow(img3)\n",
    "    idx=idx+1 \n",
    "fig.subplots_adjust(wspace=0, hspace=0.03)\n",
    "fig.savefig('result/jocondeHilbertx9.png') "
   ]
  },
  {
   "cell_type": "markdown",
   "metadata": {},
   "source": [
    "### La courbe de Lebesgue\n",
    "\n",
    "La courbe de Lebesgue est une autre courbe fractale remplissante. On peut construire cette courbe exactement de la même manière que pour Hilbert."
   ]
  },
  {
   "cell_type": "code",
   "execution_count": null,
   "metadata": {},
   "outputs": [],
   "source": [
    "def lebesgueFractal(height, width, step):\n",
    "    return lebesgue(0, 0, step)\n",
    "\n",
    "\n",
    "def lebesgue(x, y, n):\n",
    "    if n <= 1:\n",
    "        return [(x, y), (x + 1, y), (x, y + 1), (x + 1, y + 1)]\n",
    "    else:\n",
    "        jump = int(math.pow(2, n-1))\n",
    "        return lebesgue(x, y, n - 1) + \\\n",
    "               lebesgue(x + jump, y, n - 1) + \\\n",
    "               lebesgue(x, y + jump, n - 1) + \\\n",
    "               lebesgue(x + jump, y + jump, n - 1)"
   ]
  },
  {
   "cell_type": "code",
   "execution_count": null,
   "metadata": {},
   "outputs": [],
   "source": [
    "# la taille doit être une puissance de 2\n",
    "step=3\n",
    "size = pow(2,step)\n",
    "cycle = lebesgueFractal(size,size,step)\n",
    "drawFractalPath(cycle)"
   ]
  },
  {
   "cell_type": "code",
   "execution_count": null,
   "metadata": {},
   "outputs": [],
   "source": [
    "# size of bitmap must be a power of 2\n",
    "bitmap = np.full((256,256), False, dtype=bool)\n",
    "cycle = getFractalPath(bitmap,lebesgueFractal)\n",
    "img = plt.imread('pics/joconde256.png')\n",
    "\n",
    "img2 = goto(img,4096,cycle)\n",
    "plt.axis('off')\n",
    "plt.imshow(img2)"
   ]
  },
  {
   "cell_type": "markdown",
   "metadata": {},
   "source": [
    "## Bibliographie\n",
    "\n",
    "- JP Delahaye et P Mathieu. Images brouillées, Images retrouvées. Pour la Science n°242, pp102-106, 1997 [download](https://www.cristal.univ-lille.fr/~jdelahay/pls/048.pdf)\n",
    "- JP Delahaye, P Mathieu. Une Scytale Informatique. Pour la Science, n°359, pp90-95,Septembre 2007 [download](https://www.cristal.univ-lille.fr/~jdelahay/pls/2007/161.pdf)\n",
    "- https://accromath.uqam.ca/2012/01/rubrique-des-paradoxes-solution-de-mona-lisa-au-photomaton/\n",
    "\n",
    "et pour les fractales\n",
    "- JP Delahaye. Labyrinthes de longueur infinie. Pour la Science n°319, pp90-95, 2004  [download](https://www.cristal.univ-lille.fr/~jdelahay/pls/2004/116.pdf)\n",
    "- http://www.fundza.com/algorithmic/space_filling/hilbert/basics/\n"
   ]
  }
 ],
 "metadata": {
  "interpreter": {
   "hash": "40d3a090f54c6569ab1632332b64b2c03c39dcf918b08424e98f38b5ae0af88f"
  },
  "kernelspec": {
   "display_name": "Python 3 (ipykernel)",
   "language": "python",
   "name": "python3"
  },
  "language_info": {
   "codemirror_mode": {
    "name": "ipython",
    "version": 3
   },
   "file_extension": ".py",
   "mimetype": "text/x-python",
   "name": "python",
   "nbconvert_exporter": "python",
   "pygments_lexer": "ipython3",
   "version": "3.9.7"
  }
 },
 "nbformat": 4,
 "nbformat_minor": 2
}
